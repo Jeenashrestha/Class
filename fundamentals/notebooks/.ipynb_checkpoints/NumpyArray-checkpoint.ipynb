{
 "cells": [
  {
   "cell_type": "markdown",
   "id": "14e6ae9f",
   "metadata": {},
   "source": [
    "###Array Basics"
   ]
  },
  {
   "cell_type": "code",
   "execution_count": 5,
   "id": "54ca8ccc",
   "metadata": {},
   "outputs": [],
   "source": [
    "from array import array\n",
    "import sys"
   ]
  },
  {
   "cell_type": "code",
   "execution_count": 4,
   "id": "04450a8d",
   "metadata": {},
   "outputs": [],
   "source": [
    "arr1= array('i', [1,2,3,4])"
   ]
  },
  {
   "cell_type": "code",
   "execution_count": 13,
   "id": "b3255c64",
   "metadata": {},
   "outputs": [
    {
     "name": "stdout",
     "output_type": "stream",
     "text": [
      "array('i', [1, 2, 3, 4])\n",
      "4\n",
      "1\n",
      "10\n"
     ]
    }
   ],
   "source": [
    "print(arr1)\n",
    "print(max(arr1))\n",
    "print(min(arr1))\n",
    "print(sum(arr1))"
   ]
  },
  {
   "cell_type": "code",
   "execution_count": null,
   "id": "b801dd57",
   "metadata": {},
   "outputs": [],
   "source": []
  },
  {
   "cell_type": "code",
   "execution_count": null,
   "id": "5de2ff19",
   "metadata": {},
   "outputs": [],
   "source": []
  },
  {
   "cell_type": "markdown",
   "id": "e5ff6e0f",
   "metadata": {},
   "source": [
    "###NUMPY"
   ]
  },
  {
   "cell_type": "code",
   "execution_count": 15,
   "id": "955ceb9a",
   "metadata": {},
   "outputs": [],
   "source": [
    "import numpy"
   ]
  },
  {
   "cell_type": "code",
   "execution_count": 21,
   "id": "7ef623c2",
   "metadata": {},
   "outputs": [],
   "source": [
    "arr2= numpy.array([1,2,3,4,5])"
   ]
  },
  {
   "cell_type": "code",
   "execution_count": 22,
   "id": "ddf8e331",
   "metadata": {},
   "outputs": [
    {
     "name": "stdout",
     "output_type": "stream",
     "text": [
      "[1 2 3 4 5]\n"
     ]
    }
   ],
   "source": [
    "print(arr2)"
   ]
  },
  {
   "cell_type": "code",
   "execution_count": 25,
   "id": "cf07b761",
   "metadata": {},
   "outputs": [
    {
     "name": "stdout",
     "output_type": "stream",
     "text": [
      "<class 'numpy.ndarray'>\n",
      "5\n",
      "(5,)\n"
     ]
    }
   ],
   "source": [
    "print(type(arr2))\n",
    "print(len(arr2))\n",
    "print(arr2.shape)"
   ]
  },
  {
   "cell_type": "code",
   "execution_count": 28,
   "id": "11674363",
   "metadata": {},
   "outputs": [
    {
     "name": "stdout",
     "output_type": "stream",
     "text": [
      "(2, 3)\n",
      "2\n"
     ]
    }
   ],
   "source": [
    "arr3=numpy.array([[1,2,3],[4,5,6]])\n",
    "print(arr3.shape)\n",
    "print(len(arr3))"
   ]
  },
  {
   "cell_type": "code",
   "execution_count": null,
   "id": "1e10248c",
   "metadata": {},
   "outputs": [],
   "source": []
  }
 ],
 "metadata": {
  "kernelspec": {
   "display_name": "Python 3 (ipykernel)",
   "language": "python",
   "name": "python3"
  },
  "language_info": {
   "codemirror_mode": {
    "name": "ipython",
    "version": 3
   },
   "file_extension": ".py",
   "mimetype": "text/x-python",
   "name": "python",
   "nbconvert_exporter": "python",
   "pygments_lexer": "ipython3",
   "version": "3.10.2"
  }
 },
 "nbformat": 4,
 "nbformat_minor": 5
}
